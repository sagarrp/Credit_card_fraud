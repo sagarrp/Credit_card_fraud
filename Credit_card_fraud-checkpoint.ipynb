{
 "cells": [
  {
   "cell_type": "raw",
   "id": "cb1cccc6",
   "metadata": {},
   "source": [
    "Importatnt imports"
   ]
  },
  {
   "cell_type": "code",
   "execution_count": 1,
   "id": "d8bb38e4",
   "metadata": {},
   "outputs": [],
   "source": [
    "import pandas as pd\n",
    "import numpy as np\n",
    "import matplotlib.pyplot as plt\n",
    "%matplotlib inline\n",
    "import seaborn as sns\n",
    "sns.set()"
   ]
  },
  {
   "cell_type": "raw",
   "id": "8255fecd",
   "metadata": {},
   "source": [
    "Importing dataset"
   ]
  },
  {
   "cell_type": "code",
   "execution_count": 2,
   "id": "5f96d27f",
   "metadata": {
    "scrolled": false
   },
   "outputs": [
    {
     "data": {
      "text/html": [
       "<div>\n",
       "<style scoped>\n",
       "    .dataframe tbody tr th:only-of-type {\n",
       "        vertical-align: middle;\n",
       "    }\n",
       "\n",
       "    .dataframe tbody tr th {\n",
       "        vertical-align: top;\n",
       "    }\n",
       "\n",
       "    .dataframe thead th {\n",
       "        text-align: right;\n",
       "    }\n",
       "</style>\n",
       "<table border=\"1\" class=\"dataframe\">\n",
       "  <thead>\n",
       "    <tr style=\"text-align: right;\">\n",
       "      <th></th>\n",
       "      <th>distance_from_home</th>\n",
       "      <th>distance_from_last_transaction</th>\n",
       "      <th>ratio_to_median_purchase_price</th>\n",
       "      <th>repeat_retailer</th>\n",
       "      <th>used_chip</th>\n",
       "      <th>used_pin_number</th>\n",
       "      <th>online_order</th>\n",
       "      <th>fraud</th>\n",
       "    </tr>\n",
       "  </thead>\n",
       "  <tbody>\n",
       "    <tr>\n",
       "      <th>0</th>\n",
       "      <td>57.877857</td>\n",
       "      <td>0.311140</td>\n",
       "      <td>1.945940</td>\n",
       "      <td>1.0</td>\n",
       "      <td>1.0</td>\n",
       "      <td>0.0</td>\n",
       "      <td>0.0</td>\n",
       "      <td>0.0</td>\n",
       "    </tr>\n",
       "    <tr>\n",
       "      <th>1</th>\n",
       "      <td>10.829943</td>\n",
       "      <td>0.175592</td>\n",
       "      <td>1.294219</td>\n",
       "      <td>1.0</td>\n",
       "      <td>0.0</td>\n",
       "      <td>0.0</td>\n",
       "      <td>0.0</td>\n",
       "      <td>0.0</td>\n",
       "    </tr>\n",
       "    <tr>\n",
       "      <th>2</th>\n",
       "      <td>5.091079</td>\n",
       "      <td>0.805153</td>\n",
       "      <td>0.427715</td>\n",
       "      <td>1.0</td>\n",
       "      <td>0.0</td>\n",
       "      <td>0.0</td>\n",
       "      <td>1.0</td>\n",
       "      <td>0.0</td>\n",
       "    </tr>\n",
       "    <tr>\n",
       "      <th>3</th>\n",
       "      <td>2.247564</td>\n",
       "      <td>5.600044</td>\n",
       "      <td>0.362663</td>\n",
       "      <td>1.0</td>\n",
       "      <td>1.0</td>\n",
       "      <td>0.0</td>\n",
       "      <td>1.0</td>\n",
       "      <td>0.0</td>\n",
       "    </tr>\n",
       "    <tr>\n",
       "      <th>4</th>\n",
       "      <td>44.190936</td>\n",
       "      <td>0.566486</td>\n",
       "      <td>2.222767</td>\n",
       "      <td>1.0</td>\n",
       "      <td>1.0</td>\n",
       "      <td>0.0</td>\n",
       "      <td>1.0</td>\n",
       "      <td>0.0</td>\n",
       "    </tr>\n",
       "  </tbody>\n",
       "</table>\n",
       "</div>"
      ],
      "text/plain": [
       "   distance_from_home  distance_from_last_transaction  \\\n",
       "0           57.877857                        0.311140   \n",
       "1           10.829943                        0.175592   \n",
       "2            5.091079                        0.805153   \n",
       "3            2.247564                        5.600044   \n",
       "4           44.190936                        0.566486   \n",
       "\n",
       "   ratio_to_median_purchase_price  repeat_retailer  used_chip  \\\n",
       "0                        1.945940              1.0        1.0   \n",
       "1                        1.294219              1.0        0.0   \n",
       "2                        0.427715              1.0        0.0   \n",
       "3                        0.362663              1.0        1.0   \n",
       "4                        2.222767              1.0        1.0   \n",
       "\n",
       "   used_pin_number  online_order  fraud  \n",
       "0              0.0           0.0    0.0  \n",
       "1              0.0           0.0    0.0  \n",
       "2              0.0           1.0    0.0  \n",
       "3              0.0           1.0    0.0  \n",
       "4              0.0           1.0    0.0  "
      ]
     },
     "execution_count": 2,
     "metadata": {},
     "output_type": "execute_result"
    }
   ],
   "source": [
    "df= pd.read_csv('card_transdata.csv')\n",
    "df.head()"
   ]
  },
  {
   "cell_type": "code",
   "execution_count": 3,
   "id": "1366e36d",
   "metadata": {},
   "outputs": [],
   "source": [
    "df_bck=df"
   ]
  },
  {
   "cell_type": "code",
   "execution_count": null,
   "id": "1fbe6adc",
   "metadata": {},
   "outputs": [],
   "source": [
    "df.shape"
   ]
  },
  {
   "cell_type": "code",
   "execution_count": null,
   "id": "6835785a",
   "metadata": {},
   "outputs": [],
   "source": [
    "df.isnull().sum()"
   ]
  },
  {
   "cell_type": "code",
   "execution_count": null,
   "id": "79a7d66e",
   "metadata": {},
   "outputs": [],
   "source": [
    "for i in df:\n",
    "    print('*'*10,i,'*'*10)\n",
    "    print(df[i].value_counts())\n",
    "    print(df[i].nunique())\n",
    "    print()"
   ]
  },
  {
   "cell_type": "code",
   "execution_count": null,
   "id": "b0119d58",
   "metadata": {},
   "outputs": [],
   "source": [
    "# checking whether the data is balenced\n",
    "87403*2"
   ]
  },
  {
   "cell_type": "code",
   "execution_count": null,
   "id": "84092ccc",
   "metadata": {},
   "outputs": [],
   "source": [
    "fig= plt.figure(figsize=(7,100))\n",
    "plt.boxplot(df['distance_from_home'])"
   ]
  },
  {
   "cell_type": "code",
   "execution_count": null,
   "id": "8a8d479e",
   "metadata": {},
   "outputs": [],
   "source": [
    "# checking for out layier"
   ]
  },
  {
   "cell_type": "code",
   "execution_count": null,
   "id": "6ac68499",
   "metadata": {},
   "outputs": [],
   "source": [
    "y= df['distance_from_home']>100\n",
    "print(y.sum())"
   ]
  },
  {
   "cell_type": "code",
   "execution_count": null,
   "id": "c8b678e8",
   "metadata": {},
   "outputs": [],
   "source": [
    "y= df['distance_from_home']<100\n",
    "print(y.sum())"
   ]
  },
  {
   "cell_type": "code",
   "execution_count": null,
   "id": "24f47db8",
   "metadata": {},
   "outputs": [],
   "source": [
    "ax= sns.boxplot(y='distance_from_home', data=df)\n",
    "plt.ylim(0,75)\n"
   ]
  },
  {
   "cell_type": "code",
   "execution_count": null,
   "id": "15fb8dae",
   "metadata": {},
   "outputs": [],
   "source": [
    "df.drop(df[df['distance_from_home']>100].index,inplace= True)\n",
    "df.reset_index(inplace=True)\n",
    "df.drop('index',axis=1, inplace=True)"
   ]
  },
  {
   "cell_type": "code",
   "execution_count": null,
   "id": "caa15147",
   "metadata": {},
   "outputs": [],
   "source": [
    "df"
   ]
  },
  {
   "cell_type": "code",
   "execution_count": null,
   "id": "72743add",
   "metadata": {},
   "outputs": [],
   "source": [
    "df.shape"
   ]
  },
  {
   "cell_type": "code",
   "execution_count": null,
   "id": "f30341e1",
   "metadata": {},
   "outputs": [],
   "source": [
    "#scaling the data set"
   ]
  },
  {
   "cell_type": "code",
   "execution_count": null,
   "id": "39b1c0cd",
   "metadata": {},
   "outputs": [],
   "source": [
    "from sklearn.preprocessing import StandardScaler\n",
    "scaler= StandardScaler()\n",
    "df_1= pd.DataFrame(scaler.fit_transform(df[['distance_from_home','distance_from_last_transaction','ratio_to_median_purchase_price']]),columns=['distance_from_home','distance_from_last_transaction','ratio_to_median_purchase_price'])"
   ]
  },
  {
   "cell_type": "code",
   "execution_count": null,
   "id": "1f469b25",
   "metadata": {},
   "outputs": [],
   "source": [
    "df_1"
   ]
  },
  {
   "cell_type": "code",
   "execution_count": null,
   "id": "781300d8",
   "metadata": {},
   "outputs": [],
   "source": [
    "df.columns"
   ]
  },
  {
   "cell_type": "code",
   "execution_count": null,
   "id": "30776797",
   "metadata": {},
   "outputs": [],
   "source": [
    "df_1[['repeat_retailer', 'used_chip',\n",
    "       'used_pin_number', 'online_order', 'fraud']]=df[['repeat_retailer', 'used_chip',\n",
    "       'used_pin_number', 'online_order', 'fraud']]"
   ]
  },
  {
   "cell_type": "code",
   "execution_count": null,
   "id": "036174c7",
   "metadata": {},
   "outputs": [],
   "source": [
    "df_1"
   ]
  },
  {
   "cell_type": "code",
   "execution_count": null,
   "id": "8e26dd20",
   "metadata": {},
   "outputs": [],
   "source": [
    "df_1.corr()"
   ]
  },
  {
   "cell_type": "code",
   "execution_count": null,
   "id": "e3d69aae",
   "metadata": {},
   "outputs": [],
   "source": [
    "# train test split"
   ]
  },
  {
   "cell_type": "code",
   "execution_count": null,
   "id": "359106da",
   "metadata": {},
   "outputs": [],
   "source": [
    "x = df_1.drop('fraud',axis=1)"
   ]
  },
  {
   "cell_type": "code",
   "execution_count": null,
   "id": "f560b258",
   "metadata": {
    "scrolled": true
   },
   "outputs": [],
   "source": [
    "x"
   ]
  },
  {
   "cell_type": "code",
   "execution_count": null,
   "id": "496b570d",
   "metadata": {},
   "outputs": [],
   "source": [
    "y= df_1['fraud']"
   ]
  },
  {
   "cell_type": "code",
   "execution_count": null,
   "id": "482b0258",
   "metadata": {},
   "outputs": [],
   "source": [
    "y"
   ]
  },
  {
   "cell_type": "code",
   "execution_count": null,
   "id": "8ec0f396",
   "metadata": {},
   "outputs": [],
   "source": [
    "from sklearn.model_selection import train_test_split\n",
    "from sklearn.metrics import accuracy_score, confusion_matrix\n",
    "train_x,test_x,train_y,test_y= train_test_split(x,y, test_size= 0.2, random_state=2)\n"
   ]
  },
  {
   "cell_type": "code",
   "execution_count": null,
   "id": "730dc6fd",
   "metadata": {
    "scrolled": true
   },
   "outputs": [],
   "source": [
    "train_x"
   ]
  },
  {
   "cell_type": "code",
   "execution_count": null,
   "id": "582992b4",
   "metadata": {
    "scrolled": false
   },
   "outputs": [],
   "source": [
    "train_y.value_counts()\n",
    "print(train_y.shape)"
   ]
  },
  {
   "cell_type": "code",
   "execution_count": null,
   "id": "3a8262a6",
   "metadata": {
    "scrolled": true
   },
   "outputs": [],
   "source": [
    "test_x"
   ]
  },
  {
   "cell_type": "code",
   "execution_count": null,
   "id": "173fa285",
   "metadata": {},
   "outputs": [],
   "source": [
    "test_y.value_counts()\n",
    "test_y.shape"
   ]
  },
  {
   "cell_type": "code",
   "execution_count": null,
   "id": "e61991fa",
   "metadata": {},
   "outputs": [],
   "source": [
    "from sklearn.ensemble import RandomForestClassifier\n",
    "classifier= RandomForestClassifier()\n",
    "classifier.fit(train_x,train_y)\n",
    "\n",
    "\n"
   ]
  },
  {
   "cell_type": "code",
   "execution_count": null,
   "id": "ffc6338a",
   "metadata": {},
   "outputs": [],
   "source": [
    "classifier_prd=classifier.predict(test_x)"
   ]
  },
  {
   "cell_type": "code",
   "execution_count": null,
   "id": "ab4dc646",
   "metadata": {},
   "outputs": [],
   "source": [
    "svc_accuracy= accuracy_score(classifier_prd,test_y)"
   ]
  },
  {
   "cell_type": "code",
   "execution_count": null,
   "id": "19a23f6f",
   "metadata": {},
   "outputs": [],
   "source": [
    "svc_accuracy"
   ]
  },
  {
   "cell_type": "code",
   "execution_count": null,
   "id": "785f1e8d",
   "metadata": {},
   "outputs": [],
   "source": [
    "from sklearn.neighbors import KNeighborsClassifier\n",
    "knn= KNeighborsClassifier()\n",
    "knn.fit(train_x,train_y)"
   ]
  },
  {
   "cell_type": "code",
   "execution_count": null,
   "id": "fdea5456",
   "metadata": {},
   "outputs": [],
   "source": [
    "knn_prd= knn.predict(test_x)\n"
   ]
  },
  {
   "cell_type": "code",
   "execution_count": null,
   "id": "2fc54d1c",
   "metadata": {
    "scrolled": true
   },
   "outputs": [],
   "source": [
    "knn_accuracy= accuracy_score(test_y,knn_prd)\n",
    "print(knn_accuracy)"
   ]
  },
  {
   "cell_type": "raw",
   "id": "3badec77",
   "metadata": {},
   "source": [
    "Prediction_with_outlaiers"
   ]
  },
  {
   "cell_type": "code",
   "execution_count": 9,
   "id": "d0e8d535",
   "metadata": {},
   "outputs": [
    {
     "data": {
      "text/plain": [
       "Index(['distance_from_home', 'distance_from_last_transaction',\n",
       "       'ratio_to_median_purchase_price', 'repeat_retailer', 'used_chip',\n",
       "       'used_pin_number', 'online_order', 'fraud'],\n",
       "      dtype='object')"
      ]
     },
     "execution_count": 9,
     "metadata": {},
     "output_type": "execute_result"
    }
   ],
   "source": [
    "df_bck.columns"
   ]
  },
  {
   "cell_type": "code",
   "execution_count": 14,
   "id": "bb03066a",
   "metadata": {},
   "outputs": [],
   "source": [
    "from sklearn.preprocessing import StandardScaler\n",
    "scaler= StandardScaler()\n"
   ]
  },
  {
   "cell_type": "code",
   "execution_count": 15,
   "id": "dd2963b5",
   "metadata": {},
   "outputs": [],
   "source": [
    "df_bck_scaled= pd.DataFrame(scaler.fit_transform(df_bck[['distance_from_home', 'distance_from_last_transaction',\n",
    "       'ratio_to_median_purchase_price']]),columns=['distance_from_home', 'distance_from_last_transaction',\n",
    "       'ratio_to_median_purchase_price'])"
   ]
  },
  {
   "cell_type": "code",
   "execution_count": 16,
   "id": "3d3a7afa",
   "metadata": {},
   "outputs": [
    {
     "data": {
      "text/html": [
       "<div>\n",
       "<style scoped>\n",
       "    .dataframe tbody tr th:only-of-type {\n",
       "        vertical-align: middle;\n",
       "    }\n",
       "\n",
       "    .dataframe tbody tr th {\n",
       "        vertical-align: top;\n",
       "    }\n",
       "\n",
       "    .dataframe thead th {\n",
       "        text-align: right;\n",
       "    }\n",
       "</style>\n",
       "<table border=\"1\" class=\"dataframe\">\n",
       "  <thead>\n",
       "    <tr style=\"text-align: right;\">\n",
       "      <th></th>\n",
       "      <th>distance_from_home</th>\n",
       "      <th>distance_from_last_transaction</th>\n",
       "      <th>ratio_to_median_purchase_price</th>\n",
       "    </tr>\n",
       "  </thead>\n",
       "  <tbody>\n",
       "    <tr>\n",
       "      <th>0</th>\n",
       "      <td>0.477882</td>\n",
       "      <td>-0.182849</td>\n",
       "      <td>0.043491</td>\n",
       "    </tr>\n",
       "    <tr>\n",
       "      <th>1</th>\n",
       "      <td>-0.241607</td>\n",
       "      <td>-0.188094</td>\n",
       "      <td>-0.189300</td>\n",
       "    </tr>\n",
       "    <tr>\n",
       "      <th>2</th>\n",
       "      <td>-0.329369</td>\n",
       "      <td>-0.163733</td>\n",
       "      <td>-0.498812</td>\n",
       "    </tr>\n",
       "    <tr>\n",
       "      <th>3</th>\n",
       "      <td>-0.372854</td>\n",
       "      <td>0.021806</td>\n",
       "      <td>-0.522048</td>\n",
       "    </tr>\n",
       "    <tr>\n",
       "      <th>4</th>\n",
       "      <td>0.268572</td>\n",
       "      <td>-0.172968</td>\n",
       "      <td>0.142373</td>\n",
       "    </tr>\n",
       "    <tr>\n",
       "      <th>...</th>\n",
       "      <td>...</td>\n",
       "      <td>...</td>\n",
       "      <td>...</td>\n",
       "    </tr>\n",
       "    <tr>\n",
       "      <th>999995</th>\n",
       "      <td>-0.373473</td>\n",
       "      <td>-0.190529</td>\n",
       "      <td>-0.070505</td>\n",
       "    </tr>\n",
       "    <tr>\n",
       "      <th>999996</th>\n",
       "      <td>-0.103318</td>\n",
       "      <td>-0.091035</td>\n",
       "      <td>0.340808</td>\n",
       "    </tr>\n",
       "    <tr>\n",
       "      <th>999997</th>\n",
       "      <td>-0.362650</td>\n",
       "      <td>-0.137903</td>\n",
       "      <td>-0.573694</td>\n",
       "    </tr>\n",
       "    <tr>\n",
       "      <th>999998</th>\n",
       "      <td>-0.342098</td>\n",
       "      <td>-0.185523</td>\n",
       "      <td>-0.481628</td>\n",
       "    </tr>\n",
       "    <tr>\n",
       "      <th>999999</th>\n",
       "      <td>0.481403</td>\n",
       "      <td>-0.182579</td>\n",
       "      <td>-0.513384</td>\n",
       "    </tr>\n",
       "  </tbody>\n",
       "</table>\n",
       "<p>1000000 rows × 3 columns</p>\n",
       "</div>"
      ],
      "text/plain": [
       "        distance_from_home  distance_from_last_transaction  \\\n",
       "0                 0.477882                       -0.182849   \n",
       "1                -0.241607                       -0.188094   \n",
       "2                -0.329369                       -0.163733   \n",
       "3                -0.372854                        0.021806   \n",
       "4                 0.268572                       -0.172968   \n",
       "...                    ...                             ...   \n",
       "999995           -0.373473                       -0.190529   \n",
       "999996           -0.103318                       -0.091035   \n",
       "999997           -0.362650                       -0.137903   \n",
       "999998           -0.342098                       -0.185523   \n",
       "999999            0.481403                       -0.182579   \n",
       "\n",
       "        ratio_to_median_purchase_price  \n",
       "0                             0.043491  \n",
       "1                            -0.189300  \n",
       "2                            -0.498812  \n",
       "3                            -0.522048  \n",
       "4                             0.142373  \n",
       "...                                ...  \n",
       "999995                       -0.070505  \n",
       "999996                        0.340808  \n",
       "999997                       -0.573694  \n",
       "999998                       -0.481628  \n",
       "999999                       -0.513384  \n",
       "\n",
       "[1000000 rows x 3 columns]"
      ]
     },
     "execution_count": 16,
     "metadata": {},
     "output_type": "execute_result"
    }
   ],
   "source": [
    "df_bck_scaled"
   ]
  },
  {
   "cell_type": "code",
   "execution_count": 17,
   "id": "76643b33",
   "metadata": {},
   "outputs": [],
   "source": [
    "df_bck_scaled[['repeat_retailer', 'used_chip',\n",
    "       'used_pin_number', 'online_order', 'fraud']]= df_bck[['repeat_retailer', 'used_chip',\n",
    "       'used_pin_number', 'online_order', 'fraud']]"
   ]
  },
  {
   "cell_type": "code",
   "execution_count": 18,
   "id": "fb6c127d",
   "metadata": {},
   "outputs": [
    {
     "data": {
      "text/html": [
       "<div>\n",
       "<style scoped>\n",
       "    .dataframe tbody tr th:only-of-type {\n",
       "        vertical-align: middle;\n",
       "    }\n",
       "\n",
       "    .dataframe tbody tr th {\n",
       "        vertical-align: top;\n",
       "    }\n",
       "\n",
       "    .dataframe thead th {\n",
       "        text-align: right;\n",
       "    }\n",
       "</style>\n",
       "<table border=\"1\" class=\"dataframe\">\n",
       "  <thead>\n",
       "    <tr style=\"text-align: right;\">\n",
       "      <th></th>\n",
       "      <th>distance_from_home</th>\n",
       "      <th>distance_from_last_transaction</th>\n",
       "      <th>ratio_to_median_purchase_price</th>\n",
       "      <th>repeat_retailer</th>\n",
       "      <th>used_chip</th>\n",
       "      <th>used_pin_number</th>\n",
       "      <th>online_order</th>\n",
       "      <th>fraud</th>\n",
       "    </tr>\n",
       "  </thead>\n",
       "  <tbody>\n",
       "    <tr>\n",
       "      <th>0</th>\n",
       "      <td>0.477882</td>\n",
       "      <td>-0.182849</td>\n",
       "      <td>0.043491</td>\n",
       "      <td>1.0</td>\n",
       "      <td>1.0</td>\n",
       "      <td>0.0</td>\n",
       "      <td>0.0</td>\n",
       "      <td>0.0</td>\n",
       "    </tr>\n",
       "    <tr>\n",
       "      <th>1</th>\n",
       "      <td>-0.241607</td>\n",
       "      <td>-0.188094</td>\n",
       "      <td>-0.189300</td>\n",
       "      <td>1.0</td>\n",
       "      <td>0.0</td>\n",
       "      <td>0.0</td>\n",
       "      <td>0.0</td>\n",
       "      <td>0.0</td>\n",
       "    </tr>\n",
       "    <tr>\n",
       "      <th>2</th>\n",
       "      <td>-0.329369</td>\n",
       "      <td>-0.163733</td>\n",
       "      <td>-0.498812</td>\n",
       "      <td>1.0</td>\n",
       "      <td>0.0</td>\n",
       "      <td>0.0</td>\n",
       "      <td>1.0</td>\n",
       "      <td>0.0</td>\n",
       "    </tr>\n",
       "    <tr>\n",
       "      <th>3</th>\n",
       "      <td>-0.372854</td>\n",
       "      <td>0.021806</td>\n",
       "      <td>-0.522048</td>\n",
       "      <td>1.0</td>\n",
       "      <td>1.0</td>\n",
       "      <td>0.0</td>\n",
       "      <td>1.0</td>\n",
       "      <td>0.0</td>\n",
       "    </tr>\n",
       "    <tr>\n",
       "      <th>4</th>\n",
       "      <td>0.268572</td>\n",
       "      <td>-0.172968</td>\n",
       "      <td>0.142373</td>\n",
       "      <td>1.0</td>\n",
       "      <td>1.0</td>\n",
       "      <td>0.0</td>\n",
       "      <td>1.0</td>\n",
       "      <td>0.0</td>\n",
       "    </tr>\n",
       "    <tr>\n",
       "      <th>...</th>\n",
       "      <td>...</td>\n",
       "      <td>...</td>\n",
       "      <td>...</td>\n",
       "      <td>...</td>\n",
       "      <td>...</td>\n",
       "      <td>...</td>\n",
       "      <td>...</td>\n",
       "      <td>...</td>\n",
       "    </tr>\n",
       "    <tr>\n",
       "      <th>999995</th>\n",
       "      <td>-0.373473</td>\n",
       "      <td>-0.190529</td>\n",
       "      <td>-0.070505</td>\n",
       "      <td>1.0</td>\n",
       "      <td>1.0</td>\n",
       "      <td>0.0</td>\n",
       "      <td>0.0</td>\n",
       "      <td>0.0</td>\n",
       "    </tr>\n",
       "    <tr>\n",
       "      <th>999996</th>\n",
       "      <td>-0.103318</td>\n",
       "      <td>-0.091035</td>\n",
       "      <td>0.340808</td>\n",
       "      <td>1.0</td>\n",
       "      <td>1.0</td>\n",
       "      <td>0.0</td>\n",
       "      <td>0.0</td>\n",
       "      <td>0.0</td>\n",
       "    </tr>\n",
       "    <tr>\n",
       "      <th>999997</th>\n",
       "      <td>-0.362650</td>\n",
       "      <td>-0.137903</td>\n",
       "      <td>-0.573694</td>\n",
       "      <td>1.0</td>\n",
       "      <td>1.0</td>\n",
       "      <td>0.0</td>\n",
       "      <td>1.0</td>\n",
       "      <td>0.0</td>\n",
       "    </tr>\n",
       "    <tr>\n",
       "      <th>999998</th>\n",
       "      <td>-0.342098</td>\n",
       "      <td>-0.185523</td>\n",
       "      <td>-0.481628</td>\n",
       "      <td>1.0</td>\n",
       "      <td>0.0</td>\n",
       "      <td>0.0</td>\n",
       "      <td>1.0</td>\n",
       "      <td>0.0</td>\n",
       "    </tr>\n",
       "    <tr>\n",
       "      <th>999999</th>\n",
       "      <td>0.481403</td>\n",
       "      <td>-0.182579</td>\n",
       "      <td>-0.513384</td>\n",
       "      <td>1.0</td>\n",
       "      <td>1.0</td>\n",
       "      <td>0.0</td>\n",
       "      <td>1.0</td>\n",
       "      <td>0.0</td>\n",
       "    </tr>\n",
       "  </tbody>\n",
       "</table>\n",
       "<p>1000000 rows × 8 columns</p>\n",
       "</div>"
      ],
      "text/plain": [
       "        distance_from_home  distance_from_last_transaction  \\\n",
       "0                 0.477882                       -0.182849   \n",
       "1                -0.241607                       -0.188094   \n",
       "2                -0.329369                       -0.163733   \n",
       "3                -0.372854                        0.021806   \n",
       "4                 0.268572                       -0.172968   \n",
       "...                    ...                             ...   \n",
       "999995           -0.373473                       -0.190529   \n",
       "999996           -0.103318                       -0.091035   \n",
       "999997           -0.362650                       -0.137903   \n",
       "999998           -0.342098                       -0.185523   \n",
       "999999            0.481403                       -0.182579   \n",
       "\n",
       "        ratio_to_median_purchase_price  repeat_retailer  used_chip  \\\n",
       "0                             0.043491              1.0        1.0   \n",
       "1                            -0.189300              1.0        0.0   \n",
       "2                            -0.498812              1.0        0.0   \n",
       "3                            -0.522048              1.0        1.0   \n",
       "4                             0.142373              1.0        1.0   \n",
       "...                                ...              ...        ...   \n",
       "999995                       -0.070505              1.0        1.0   \n",
       "999996                        0.340808              1.0        1.0   \n",
       "999997                       -0.573694              1.0        1.0   \n",
       "999998                       -0.481628              1.0        0.0   \n",
       "999999                       -0.513384              1.0        1.0   \n",
       "\n",
       "        used_pin_number  online_order  fraud  \n",
       "0                   0.0           0.0    0.0  \n",
       "1                   0.0           0.0    0.0  \n",
       "2                   0.0           1.0    0.0  \n",
       "3                   0.0           1.0    0.0  \n",
       "4                   0.0           1.0    0.0  \n",
       "...                 ...           ...    ...  \n",
       "999995              0.0           0.0    0.0  \n",
       "999996              0.0           0.0    0.0  \n",
       "999997              0.0           1.0    0.0  \n",
       "999998              0.0           1.0    0.0  \n",
       "999999              0.0           1.0    0.0  \n",
       "\n",
       "[1000000 rows x 8 columns]"
      ]
     },
     "execution_count": 18,
     "metadata": {},
     "output_type": "execute_result"
    }
   ],
   "source": [
    "df_bck_scaled"
   ]
  },
  {
   "cell_type": "code",
   "execution_count": 25,
   "id": "3bffc15f",
   "metadata": {},
   "outputs": [
    {
     "name": "stdout",
     "output_type": "stream",
     "text": [
      "(1000000, 7)\n"
     ]
    }
   ],
   "source": [
    "m= df_bck_scaled.drop('fraud',axis=1)\n",
    "print(m.shape)"
   ]
  },
  {
   "cell_type": "code",
   "execution_count": 24,
   "id": "1d91bd3d",
   "metadata": {},
   "outputs": [
    {
     "name": "stdout",
     "output_type": "stream",
     "text": [
      "(1000000,)\n"
     ]
    }
   ],
   "source": [
    "n= df_bck_scaled['fraud']\n",
    "print(n.shape)"
   ]
  },
  {
   "cell_type": "code",
   "execution_count": 26,
   "id": "391373ef",
   "metadata": {},
   "outputs": [],
   "source": [
    "from sklearn.model_selection import train_test_split\n",
    "train_m,test_m,train_n,test_n= train_test_split(m,n, test_size= 0.2, random_state=2)\n",
    "\n"
   ]
  },
  {
   "cell_type": "code",
   "execution_count": 27,
   "id": "c5ec6efc",
   "metadata": {},
   "outputs": [
    {
     "name": "stdout",
     "output_type": "stream",
     "text": [
      "(800000, 7)\n",
      "(800000,)\n",
      "(200000, 7)\n",
      "(200000,)\n"
     ]
    }
   ],
   "source": [
    "print(train_m.shape)\n",
    "print(train_n.shape)\n",
    "print(test_m.shape)\n",
    "print(test_n.shape)\n"
   ]
  },
  {
   "cell_type": "code",
   "execution_count": 28,
   "id": "4ae7b135",
   "metadata": {},
   "outputs": [
    {
     "data": {
      "text/plain": [
       "RandomForestClassifier()"
      ]
     },
     "execution_count": 28,
     "metadata": {},
     "output_type": "execute_result"
    }
   ],
   "source": [
    "from sklearn.ensemble import RandomForestClassifier\n",
    "classifier= RandomForestClassifier()\n",
    "classifier.fit(train_m,train_n)"
   ]
  },
  {
   "cell_type": "code",
   "execution_count": 29,
   "id": "b3d4ce5a",
   "metadata": {},
   "outputs": [],
   "source": [
    "classifier_prd= classifier.predict(test_m)"
   ]
  },
  {
   "cell_type": "code",
   "execution_count": 30,
   "id": "9afa3924",
   "metadata": {},
   "outputs": [],
   "source": [
    "from sklearn.metrics import accuracy_score, confusion_matrix"
   ]
  },
  {
   "cell_type": "code",
   "execution_count": 34,
   "id": "f825164b",
   "metadata": {},
   "outputs": [
    {
     "name": "stdout",
     "output_type": "stream",
     "text": [
      "0.99999\n"
     ]
    }
   ],
   "source": [
    "calssifier_accuracy= accuracy_score(classifier_prd, test_n)\n",
    "print(calssifier_accuracy)"
   ]
  },
  {
   "cell_type": "code",
   "execution_count": null,
   "id": "698eaef0",
   "metadata": {},
   "outputs": [],
   "source": []
  }
 ],
 "metadata": {
  "kernelspec": {
   "display_name": "Python 3 (ipykernel)",
   "language": "python",
   "name": "python3"
  },
  "language_info": {
   "codemirror_mode": {
    "name": "ipython",
    "version": 3
   },
   "file_extension": ".py",
   "mimetype": "text/x-python",
   "name": "python",
   "nbconvert_exporter": "python",
   "pygments_lexer": "ipython3",
   "version": "3.9.12"
  }
 },
 "nbformat": 4,
 "nbformat_minor": 5
}
